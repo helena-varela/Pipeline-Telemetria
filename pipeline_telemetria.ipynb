{
  "nbformat": 4,
  "nbformat_minor": 0,
  "metadata": {
    "colab": {
      "provenance": [],
      "mount_file_id": "1_7ENc6VXdMhlZEONsQd5WRYWH5Ldx6RR",
      "authorship_tag": "ABX9TyO5ZVT5a7hu4HauI4T49myC",
      "include_colab_link": true
    },
    "kernelspec": {
      "name": "python3",
      "display_name": "Python 3"
    },
    "language_info": {
      "name": "python"
    }
  },
  "cells": [
    {
      "cell_type": "markdown",
      "metadata": {
        "id": "view-in-github",
        "colab_type": "text"
      },
      "source": [
        "<a href=\"https://colab.research.google.com/github/helena-varela/Pipeline-Telemetria/blob/main/pipeline_telemetria.ipynb\" target=\"_parent\"><img src=\"https://colab.research.google.com/assets/colab-badge.svg\" alt=\"Open In Colab\"/></a>"
      ]
    },
    {
      "cell_type": "markdown",
      "source": [
        "**Importação**"
      ],
      "metadata": {
        "id": "AU9F1DpEzg0q"
      }
    },
    {
      "cell_type": "code",
      "source": [
        "import json"
      ],
      "metadata": {
        "id": "IhlO_jcQxwj7"
      },
      "execution_count": 1,
      "outputs": []
    },
    {
      "cell_type": "markdown",
      "source": [
        "**Salvar no txt**"
      ],
      "metadata": {
        "id": "zEOYTOsdzkvi"
      }
    },
    {
      "cell_type": "code",
      "source": [
        "def salvar_txt(dados):\n",
        "  with open('telemetria.txt', 'a') as file:\n",
        "    file.write(dados)"
      ],
      "metadata": {
        "id": "bbVsDu-UzkYK"
      },
      "execution_count": 2,
      "outputs": []
    },
    {
      "cell_type": "markdown",
      "source": [
        "**Coleta de dados**"
      ],
      "metadata": {
        "id": "lZ08I495zdGi"
      }
    },
    {
      "cell_type": "code",
      "execution_count": 20,
      "metadata": {
        "colab": {
          "base_uri": "https://localhost:8080/"
        },
        "id": "MMcmOYDgxgS-",
        "outputId": "ede8bbc1-8e40-4228-b182-f821d10cd263"
      },
      "outputs": [
        {
          "name": "stdout",
          "output_type": "stream",
          "text": [
            "Bem-vindo\n",
            "Qual o ID do paciente? P005\n",
            "Qual a pressão do paciente? invalida\n",
            "Qual a saturação do paciente? 97\n",
            "Qual a temperatura do paciente? 37.0\n"
          ]
        }
      ],
      "source": [
        "print(\"Bem-vindo\")\n",
        "id = input(\"Qual o ID do paciente? \")\n",
        "pressao = input(\"Qual a pressão do paciente? \")\n",
        "saturacao = input(\"Qual a saturação do paciente? \")\n",
        "temperatura = input(\"Qual a temperatura do paciente? \")\n",
        "\n",
        "dados = f\"ID:{id}|pressao:{pressao}|saturacao:{saturacao}|temperatura:{temperatura}\\n\"\n",
        "\n",
        "salvar_txt(dados)"
      ]
    },
    {
      "cell_type": "markdown",
      "source": [
        "# **01. Extração e Limpeza (Extract & Transform)**"
      ],
      "metadata": {
        "id": "hdVSqC5nF38Q"
      }
    },
    {
      "cell_type": "markdown",
      "source": [
        "**Extraindo os dados**"
      ],
      "metadata": {
        "id": "V25bWPvO-cuo"
      }
    },
    {
      "cell_type": "code",
      "source": [
        "# Extraindo ID\n",
        "def extrai_ID(arquivo):\n",
        "  lista_de_ids = []\n",
        "  with open(arquivo, 'r') as file:\n",
        "    for line in file:\n",
        "      line_limpa = line.strip() # Retira os espaços vazios\n",
        "      lista_partes = line_limpa.split('|') # Separa pelo |\n",
        "      id = lista_partes[0] # O ID sempre será o primeiro elemento da lista\n",
        "      id_e_numeros = id.split(':') # Separa pelo : [\"ID\", \"P001\"]\n",
        "      id_paciente = id_e_numeros[1] # Pega apenas a parte do ID P001\n",
        "      lista_de_ids.append(id_paciente) # Adiciona a lista\n",
        "\n",
        "  return lista_de_ids\n",
        "\n",
        "extrai_ID('telemetria.txt')"
      ],
      "metadata": {
        "id": "WPVn9UGVGehG",
        "colab": {
          "base_uri": "https://localhost:8080/"
        },
        "outputId": "b59de0c3-21bf-49c6-c4b5-06ab37c9303b"
      },
      "execution_count": 22,
      "outputs": [
        {
          "output_type": "execute_result",
          "data": {
            "text/plain": [
              "['P013', 'P001', 'P002', 'P003', 'P004', 'P001', 'P005']"
            ]
          },
          "metadata": {},
          "execution_count": 22
        }
      ]
    },
    {
      "cell_type": "code",
      "source": [
        "# Extraindo Pressão Sistólica e Diastólica\n",
        "def extrai_sistolica_diastolica(arquivo):\n",
        "  lista_sistolica = []\n",
        "  lista_diastolica = []\n",
        "  with open(arquivo, 'r') as file:\n",
        "    for line in file:\n",
        "        line_limpa = line.strip() # Retira os espaços vazios\n",
        "        lista_partes = line_limpa.split('|') # Separa pelo |\n",
        "        try:\n",
        "            pressoes = lista_partes[1]\n",
        "            pressao_e_valores = pressoes.split(':')\n",
        "            sis_e_dias = pressao_e_valores[1]\n",
        "            separa_sis_dias = sis_e_dias.split('/')\n",
        "            sistolica = separa_sis_dias[0]\n",
        "            diastolica = separa_sis_dias[1]\n",
        "            lista_sistolica.append(sistolica)\n",
        "            lista_diastolica.append(diastolica)\n",
        "        except (IndexError, ValueError):\n",
        "            pass\n",
        "\n",
        "  return lista_sistolica, lista_diastolica\n",
        "\n",
        "extrai_sistolica_diastolica('telemetria.txt')"
      ],
      "metadata": {
        "id": "ic8aeFV-OT7t",
        "colab": {
          "base_uri": "https://localhost:8080/"
        },
        "outputId": "956d9e55-c833-4929-f858-5bc45089f348"
      },
      "execution_count": 26,
      "outputs": [
        {
          "output_type": "execute_result",
          "data": {
            "text/plain": [
              "(['127', '185', '130', '140', '120', '190'],\n",
              " ['80', '95', '80', '90', '75', '100'])"
            ]
          },
          "metadata": {},
          "execution_count": 26
        }
      ]
    },
    {
      "cell_type": "code",
      "source": [
        "# Extraindo Saturação\n",
        "def extrai_saturacao(arquivo):\n",
        "  lista_saturacao = []\n",
        "  with open(arquivo, 'r') as file:\n",
        "      for line in file:\n",
        "        line_limpa = line.strip() # Retira os espaços vazios\n",
        "        lista_partes = line_limpa.split('|') # Separa pelo |\n",
        "        saturacao_parte = lista_partes[2]\n",
        "        saturacao_separa = saturacao_parte.split(':')\n",
        "        saturacao = saturacao_separa[1]\n",
        "        lista_saturacao.append(saturacao)\n",
        "\n",
        "  return lista_saturacao\n",
        "\n",
        "extrai_saturacao('telemetria.txt')"
      ],
      "metadata": {
        "id": "DRxayYOWTMQ8",
        "colab": {
          "base_uri": "https://localhost:8080/"
        },
        "outputId": "1e290688-488a-4542-a0ef-d5f0cc775df4"
      },
      "execution_count": 25,
      "outputs": [
        {
          "output_type": "execute_result",
          "data": {
            "text/plain": [
              "['83', '89', '98', '95', '99', '91', '97']"
            ]
          },
          "metadata": {},
          "execution_count": 25
        }
      ]
    },
    {
      "cell_type": "code",
      "source": [
        "# Extração da Temperatura\n",
        "def extrai_temperatura(arquivo):\n",
        "  lista_temperatura = []\n",
        "  with open(arquivo, 'r') as file:\n",
        "        for line in file:\n",
        "          line_limpa = line.strip() # Retira os espaços vazios\n",
        "          lista_partes = line_limpa.split('|') # Separa pelo |\n",
        "          temperatura_parte = lista_partes[3]\n",
        "          temperatura_separa = temperatura_parte.split(':')\n",
        "          temperatura = temperatura_separa[1]\n",
        "          lista_temperatura.append(temperatura)\n",
        "\n",
        "  return lista_temperatura\n",
        "\n",
        "extrai_temperatura('telemetria.txt')"
      ],
      "metadata": {
        "id": "DrN-QfJIVkkU",
        "colab": {
          "base_uri": "https://localhost:8080/"
        },
        "outputId": "6bfc8e8a-ccb3-4e06-d520-d7b6cea379c2"
      },
      "execution_count": 27,
      "outputs": [
        {
          "output_type": "execute_result",
          "data": {
            "text/plain": [
              "['40', '38.1', 'trinta e sete', '', '36.8', '38.5', '37.0']"
            ]
          },
          "metadata": {},
          "execution_count": 27
        }
      ]
    },
    {
      "cell_type": "markdown",
      "source": [
        "**Validação de Dados**"
      ],
      "metadata": {
        "id": "wOMaQSMf5TPo"
      }
    },
    {
      "cell_type": "code",
      "source": [
        "# Valida se algum campo está vazio\n",
        "nome_arquivo_original = 'telemetria.txt'\n",
        "\n",
        "linhas_completas = []\n",
        "linhas_incompletas = []\n",
        "\n",
        "try:\n",
        "    with open(nome_arquivo_original, 'r') as file:\n",
        "        for linha in file:\n",
        "            linha_limpa = linha.strip()\n",
        "            partes = linha_limpa.split('|')\n",
        "\n",
        "            esta_completa = True\n",
        "\n",
        "            for parte in partes:\n",
        "                # Se uma parte não tiver ':' ou terminar com ':', o valor está faltando\n",
        "                if ':' not in parte or parte.endswith(':'):\n",
        "                    esta_completa = False\n",
        "                    break\n",
        "\n",
        "            if esta_completa:\n",
        "                linhas_completas.append(linha_limpa)\n",
        "            else:\n",
        "                linhas_incompletas.append(linha_limpa)\n",
        "\n",
        "    print(\"Linhas completas:\")\n",
        "    for linha in linhas_completas:\n",
        "        print(linha)\n",
        "\n",
        "    print(\"\\nLinhas incompletas:\")\n",
        "    for linha in linhas_incompletas:\n",
        "        print(linha)\n",
        "        with open('log_errors.txt', 'a') as file:\n",
        "          file.write(f\"{linha}|Existe um campo vazio\\n\")\n",
        "\n",
        "except FileNotFoundError:\n",
        "    print(f\"Erro: O arquivo '{nome_arquivo_original}' não foi encontrado.\")"
      ],
      "metadata": {
        "colab": {
          "base_uri": "https://localhost:8080/"
        },
        "id": "7pmzHawt7n3l",
        "outputId": "b883e808-a183-4b78-ad58-167e4a3c5a38"
      },
      "execution_count": 37,
      "outputs": [
        {
          "output_type": "stream",
          "name": "stdout",
          "text": [
            "Linhas completas:\n",
            "ID:P013|pressao:127/80|saturacao:83|temperatura:40\n",
            "ID:P001|pressao:185/95|saturacao:89|temperatura:38.1\n",
            "ID:P002|pressao:130/80|saturacao:98|temperatura:trinta e sete\n",
            "ID:P004|pressao:120/75|saturacao:99|temperatura:36.8\n",
            "ID:P001|pressao:190/100|saturacao:91|temperatura:38.5\n",
            "ID:P005|pressao:invalida|saturacao:97|temperatura:37.0\n",
            "\n",
            "Linhas incompletas:\n",
            "ID:P003|pressao:140/90|saturacao:95|temperatura:\n"
          ]
        }
      ]
    },
    {
      "cell_type": "code",
      "source": [
        "# Validação das Entradas\n",
        "linhas_totalmente_validas = []\n",
        "\n",
        "with open('log_errors.txt', 'a') as log_file:\n",
        "    for linha in linhas_completas:\n",
        "        partes = linha.strip().split('|')\n",
        "\n",
        "        linha_e_valida = True\n",
        "\n",
        "        # Validação da Pressão\n",
        "        try:\n",
        "            pressao_parte = partes[1]\n",
        "            valor_pressao_texto = pressao_parte.split(':')[1]\n",
        "            sistolica_str, diastolica_str = valor_pressao_texto.split('/')\n",
        "            int(sistolica_str)\n",
        "            int(diastolica_str)\n",
        "        except (ValueError, IndexError):\n",
        "            log_file.write(f\"{linha.strip()} | O valor da pressão não é um inteiro\\n\")\n",
        "            linha_e_valida = False\n",
        "\n",
        "        # Validação da Saturação\n",
        "        if linha_e_valida:\n",
        "            try:\n",
        "                saturacao_parte = partes[2]\n",
        "                valor_saturacao = saturacao_parte.split(':')[1]\n",
        "                int(valor_saturacao)\n",
        "            except (ValueError, IndexError):\n",
        "                log_file.write(f\"{linha.strip()} | O valor da saturação não é um inteiro\\n\")\n",
        "                linha_e_valida = False\n",
        "\n",
        "        # Validação da Temperatura\n",
        "        if linha_e_valida:\n",
        "            try:\n",
        "                temperatura_parte = partes[3]\n",
        "                valor_temperatura = temperatura_parte.split(':')[1]\n",
        "                float(valor_temperatura)\n",
        "            except (ValueError, IndexError):\n",
        "                log_file.write(f\"{linha.strip()} | O valor da temperatura não é um float\\n\")\n",
        "                linha_e_valida = False\n",
        "\n",
        "        if linha_e_valida:\n",
        "            linhas_totalmente_validas.append(linha)\n"
      ],
      "metadata": {
        "id": "sQLf1Hx112wo"
      },
      "execution_count": 38,
      "outputs": []
    },
    {
      "cell_type": "markdown",
      "source": [
        "# **02. Carregamento (Load)**"
      ],
      "metadata": {
        "id": "ojr073M49kiv"
      }
    },
    {
      "cell_type": "code",
      "source": [
        "def agrupar_e_salvar_json(linhas_validas):\n",
        "    dados_agrupados = {}\n",
        "    for linha in linhas_validas:\n",
        "        partes = linha.split('|')\n",
        "        id_paciente = partes[0].split(':')[1]\n",
        "\n",
        "        leitura = {\n",
        "            \"pressao\": partes[1].split(':')[1],\n",
        "            \"saturacao\": partes[2].split(':')[1],\n",
        "            \"temperatura\": partes[3].split(':')[1]\n",
        "        }\n",
        "\n",
        "        if id_paciente not in dados_agrupados:\n",
        "            dados_agrupados[id_paciente] = []\n",
        "\n",
        "        dados_agrupados[id_paciente].append(leitura)\n",
        "\n",
        "    nome_arquivo_json = 'pacientes_monitorados.json'\n",
        "    with open(nome_arquivo_json, 'w', encoding='utf-8') as file:\n",
        "        json.dump(dados_agrupados, file, indent=4)\n",
        "\n",
        "    return nome_arquivo_json\n",
        "\n",
        "agrupar_e_salvar_json(linhas_totalmente_validas)"
      ],
      "metadata": {
        "id": "C_8JHlOTHXRl",
        "colab": {
          "base_uri": "https://localhost:8080/",
          "height": 36
        },
        "outputId": "4506ab99-6af5-4e9c-9c91-72d523fa777f"
      },
      "execution_count": 41,
      "outputs": [
        {
          "output_type": "execute_result",
          "data": {
            "text/plain": [
              "'pacientes_monitorados.json'"
            ],
            "application/vnd.google.colaboratory.intrinsic+json": {
              "type": "string"
            }
          },
          "metadata": {},
          "execution_count": 41
        }
      ]
    },
    {
      "cell_type": "markdown",
      "source": [
        "# **03. Análise Preditiva e Geração de Relatório**"
      ],
      "metadata": {
        "id": "ZlEqeBDJDHfH"
      }
    },
    {
      "cell_type": "code",
      "source": [
        "def gerar_relatorio(nome_arquivo_json):\n",
        "    nome_arquivo_relatorio = 'relatorio_de_alertas.txt'\n",
        "    pacientes_em_alerta = []\n",
        "\n",
        "    with open(nome_arquivo_json, 'r', encoding='utf-8') as file:\n",
        "          dados_pacientes = json.load(file)\n",
        "\n",
        "    for id_paciente, leituras in dados_pacientes.items():\n",
        "          alertas_do_paciente = []\n",
        "          for leitura in leituras:\n",
        "\n",
        "              # Para a Saturação\n",
        "              try:\n",
        "                  saturacao = int(leitura.get('saturacao'))\n",
        "                  if saturacao < 92:\n",
        "                      alertas_do_paciente.append(f\"Saturação de {saturacao}% (abaixo do normal)\")\n",
        "              except (ValueError, TypeError):\n",
        "                  pass\n",
        "\n",
        "              # Para a Pressão Sistólica ou Diastólica\n",
        "              try:\n",
        "                  sistolica, diastolica = map(int, leitura.get('pressao').split('/'))\n",
        "                  if sistolica > 180 or diastolica > 100:\n",
        "                      alertas_do_paciente.append(f\"Pressão de {sistolica}/{diastolica} (hipertensão)\")\n",
        "              except (ValueError, TypeError, AttributeError):\n",
        "                  pass\n",
        "\n",
        "              # Para a Temperatura\n",
        "              try:\n",
        "                  temperatura = float(leitura.get('temperatura'))\n",
        "                  if temperatura >= 38.0:\n",
        "                      alertas_do_paciente.append(f\"Temperatura de {temperatura}ºC (febre)\")\n",
        "              except (ValueError, TypeError):\n",
        "                  pass\n",
        "\n",
        "          if alertas_do_paciente:\n",
        "              pacientes_em_alerta.append({\n",
        "                  \"id\": id_paciente,\n",
        "                  \"alertas\": alertas_do_paciente\n",
        "              })\n",
        "\n",
        "\n",
        "    with open(nome_arquivo_relatorio, 'w', encoding='utf-8') as relatorio:\n",
        "          if pacientes_em_alerta:\n",
        "              relatorio.write(\"RELATÓRIO DE PACIENTES EM ESTADO DE ALERTA\\n\")\n",
        "\n",
        "              for paciente in pacientes_em_alerta:\n",
        "                  relatorio.write(f\"Paciente ID: {paciente['id']}\\n\")\n",
        "                  for alerta in paciente['alertas']:\n",
        "                      relatorio.write(f\"{alerta}\\n\")\n",
        "                  relatorio.write(\"\\n\")\n",
        "          else:\n",
        "              relatorio.write(\"RELATÓRIO DE SAÚDE DIÁRIO\\n\")\n",
        "              relatorio.write(\"Nenhum paciente está em estado de alerta hoje.\\n\")\n",
        "\n",
        "gerar_relatorio('pacientes_monitorados.json')"
      ],
      "metadata": {
        "id": "usDiYslJDGth"
      },
      "execution_count": 44,
      "outputs": []
    }
  ]
}